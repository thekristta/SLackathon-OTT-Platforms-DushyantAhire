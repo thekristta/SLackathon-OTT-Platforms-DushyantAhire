{
 "cells": [
  {
   "cell_type": "code",
   "execution_count": 1,
   "id": "82e4c570",
   "metadata": {},
   "outputs": [],
   "source": [
    "import numpy as np\n",
    "import pandas as pd\n",
    "import matplotlib.pyplot as plt\n",
    "import seaborn as sns"
   ]
  },
  {
   "cell_type": "code",
   "execution_count": 2,
   "id": "a9c2df54",
   "metadata": {},
   "outputs": [],
   "source": [
    "# importing Movies data\n",
    "movies_data = pd.read_csv('MoviesOnStreamingPlatforms_updated.csv')"
   ]
  },
  {
   "cell_type": "code",
   "execution_count": 3,
   "id": "e98179e8",
   "metadata": {},
   "outputs": [
    {
     "data": {
      "text/html": [
       "<div>\n",
       "<style scoped>\n",
       "    .dataframe tbody tr th:only-of-type {\n",
       "        vertical-align: middle;\n",
       "    }\n",
       "\n",
       "    .dataframe tbody tr th {\n",
       "        vertical-align: top;\n",
       "    }\n",
       "\n",
       "    .dataframe thead th {\n",
       "        text-align: right;\n",
       "    }\n",
       "</style>\n",
       "<table border=\"1\" class=\"dataframe\">\n",
       "  <thead>\n",
       "    <tr style=\"text-align: right;\">\n",
       "      <th></th>\n",
       "      <th>ID</th>\n",
       "      <th>Title</th>\n",
       "      <th>Year</th>\n",
       "      <th>Age</th>\n",
       "      <th>IMDb</th>\n",
       "      <th>Rotten Tomatoes</th>\n",
       "      <th>Netflix</th>\n",
       "      <th>Hulu</th>\n",
       "      <th>Prime Video</th>\n",
       "      <th>Disney+</th>\n",
       "      <th>Type</th>\n",
       "      <th>Directors</th>\n",
       "      <th>Genres</th>\n",
       "      <th>Country</th>\n",
       "      <th>Language</th>\n",
       "      <th>Runtime</th>\n",
       "    </tr>\n",
       "  </thead>\n",
       "  <tbody>\n",
       "    <tr>\n",
       "      <th>0</th>\n",
       "      <td>1</td>\n",
       "      <td>Inception</td>\n",
       "      <td>2010</td>\n",
       "      <td>13+</td>\n",
       "      <td>8.8</td>\n",
       "      <td>87%</td>\n",
       "      <td>1.0</td>\n",
       "      <td>0</td>\n",
       "      <td>0</td>\n",
       "      <td>0</td>\n",
       "      <td>0</td>\n",
       "      <td>Christopher Nolan</td>\n",
       "      <td>Action,Adventure,Sci-Fi,Thriller</td>\n",
       "      <td>United States,United Kingdom</td>\n",
       "      <td>English,Japanese,French</td>\n",
       "      <td>148.0</td>\n",
       "    </tr>\n",
       "    <tr>\n",
       "      <th>1</th>\n",
       "      <td>2</td>\n",
       "      <td>The Matrix</td>\n",
       "      <td>1999</td>\n",
       "      <td>18+</td>\n",
       "      <td>8.7</td>\n",
       "      <td>87%</td>\n",
       "      <td>1.0</td>\n",
       "      <td>0</td>\n",
       "      <td>0</td>\n",
       "      <td>0</td>\n",
       "      <td>0</td>\n",
       "      <td>Lana Wachowski,Lilly Wachowski</td>\n",
       "      <td>Action,Sci-Fi</td>\n",
       "      <td>United States</td>\n",
       "      <td>English</td>\n",
       "      <td>136.0</td>\n",
       "    </tr>\n",
       "    <tr>\n",
       "      <th>2</th>\n",
       "      <td>3</td>\n",
       "      <td>Avengers: Infinity War</td>\n",
       "      <td>2018</td>\n",
       "      <td>13+</td>\n",
       "      <td>8.5</td>\n",
       "      <td>84%</td>\n",
       "      <td>1.0</td>\n",
       "      <td>0</td>\n",
       "      <td>0</td>\n",
       "      <td>0</td>\n",
       "      <td>0</td>\n",
       "      <td>Anthony Russo,Joe Russo</td>\n",
       "      <td>Action,Adventure,Sci-Fi</td>\n",
       "      <td>United States</td>\n",
       "      <td>English</td>\n",
       "      <td>149.0</td>\n",
       "    </tr>\n",
       "    <tr>\n",
       "      <th>3</th>\n",
       "      <td>4</td>\n",
       "      <td>Back to the Future</td>\n",
       "      <td>1985</td>\n",
       "      <td>7+</td>\n",
       "      <td>8.5</td>\n",
       "      <td>96%</td>\n",
       "      <td>1.0</td>\n",
       "      <td>0</td>\n",
       "      <td>0</td>\n",
       "      <td>0</td>\n",
       "      <td>0</td>\n",
       "      <td>Robert Zemeckis</td>\n",
       "      <td>Adventure,Comedy,Sci-Fi</td>\n",
       "      <td>United States</td>\n",
       "      <td>English</td>\n",
       "      <td>116.0</td>\n",
       "    </tr>\n",
       "    <tr>\n",
       "      <th>4</th>\n",
       "      <td>5</td>\n",
       "      <td>The Good, the Bad and the Ugly</td>\n",
       "      <td>1966</td>\n",
       "      <td>18+</td>\n",
       "      <td>8.8</td>\n",
       "      <td>97%</td>\n",
       "      <td>1.0</td>\n",
       "      <td>0</td>\n",
       "      <td>1</td>\n",
       "      <td>0</td>\n",
       "      <td>0</td>\n",
       "      <td>Sergio Leone</td>\n",
       "      <td>Western</td>\n",
       "      <td>Italy,Spain,West Germany</td>\n",
       "      <td>Italian</td>\n",
       "      <td>161.0</td>\n",
       "    </tr>\n",
       "  </tbody>\n",
       "</table>\n",
       "</div>"
      ],
      "text/plain": [
       "   ID                           Title  Year  Age  IMDb Rotten Tomatoes  \\\n",
       "0   1                       Inception  2010  13+   8.8             87%   \n",
       "1   2                      The Matrix  1999  18+   8.7             87%   \n",
       "2   3          Avengers: Infinity War  2018  13+   8.5             84%   \n",
       "3   4              Back to the Future  1985   7+   8.5             96%   \n",
       "4   5  The Good, the Bad and the Ugly  1966  18+   8.8             97%   \n",
       "\n",
       "   Netflix  Hulu  Prime Video  Disney+  Type                       Directors  \\\n",
       "0      1.0     0            0        0     0               Christopher Nolan   \n",
       "1      1.0     0            0        0     0  Lana Wachowski,Lilly Wachowski   \n",
       "2      1.0     0            0        0     0         Anthony Russo,Joe Russo   \n",
       "3      1.0     0            0        0     0                 Robert Zemeckis   \n",
       "4      1.0     0            1        0     0                    Sergio Leone   \n",
       "\n",
       "                             Genres                       Country  \\\n",
       "0  Action,Adventure,Sci-Fi,Thriller  United States,United Kingdom   \n",
       "1                     Action,Sci-Fi                 United States   \n",
       "2           Action,Adventure,Sci-Fi                 United States   \n",
       "3           Adventure,Comedy,Sci-Fi                 United States   \n",
       "4                           Western      Italy,Spain,West Germany   \n",
       "\n",
       "                  Language  Runtime  \n",
       "0  English,Japanese,French    148.0  \n",
       "1                  English    136.0  \n",
       "2                  English    149.0  \n",
       "3                  English    116.0  \n",
       "4                  Italian    161.0  "
      ]
     },
     "execution_count": 3,
     "metadata": {},
     "output_type": "execute_result"
    }
   ],
   "source": [
    "# View top 5 rows from Movies data\n",
    "movies_data.head()"
   ]
  },
  {
   "cell_type": "code",
   "execution_count": 4,
   "id": "3e56ad5e",
   "metadata": {},
   "outputs": [
    {
     "data": {
      "text/plain": [
       "(16744, 16)"
      ]
     },
     "execution_count": 4,
     "metadata": {},
     "output_type": "execute_result"
    }
   ],
   "source": [
    "# Cheking the size of data\n",
    "movies_data.shape"
   ]
  },
  {
   "cell_type": "code",
   "execution_count": 5,
   "id": "982c6b13",
   "metadata": {},
   "outputs": [
    {
     "data": {
      "text/html": [
       "<div>\n",
       "<style scoped>\n",
       "    .dataframe tbody tr th:only-of-type {\n",
       "        vertical-align: middle;\n",
       "    }\n",
       "\n",
       "    .dataframe tbody tr th {\n",
       "        vertical-align: top;\n",
       "    }\n",
       "\n",
       "    .dataframe thead th {\n",
       "        text-align: right;\n",
       "    }\n",
       "</style>\n",
       "<table border=\"1\" class=\"dataframe\">\n",
       "  <thead>\n",
       "    <tr style=\"text-align: right;\">\n",
       "      <th></th>\n",
       "      <th>ID</th>\n",
       "      <th>Year</th>\n",
       "      <th>IMDb</th>\n",
       "      <th>Netflix</th>\n",
       "      <th>Hulu</th>\n",
       "      <th>Prime Video</th>\n",
       "      <th>Disney+</th>\n",
       "      <th>Type</th>\n",
       "      <th>Runtime</th>\n",
       "    </tr>\n",
       "  </thead>\n",
       "  <tbody>\n",
       "    <tr>\n",
       "      <th>count</th>\n",
       "      <td>16744.000000</td>\n",
       "      <td>16744.000000</td>\n",
       "      <td>16173.000000</td>\n",
       "      <td>16744.000000</td>\n",
       "      <td>16744.000000</td>\n",
       "      <td>16744.000000</td>\n",
       "      <td>16744.000000</td>\n",
       "      <td>16744.0</td>\n",
       "      <td>16152.000000</td>\n",
       "    </tr>\n",
       "    <tr>\n",
       "      <th>mean</th>\n",
       "      <td>8372.500000</td>\n",
       "      <td>2003.014035</td>\n",
       "      <td>5.902751</td>\n",
       "      <td>0.212614</td>\n",
       "      <td>0.053930</td>\n",
       "      <td>0.737817</td>\n",
       "      <td>0.033684</td>\n",
       "      <td>0.0</td>\n",
       "      <td>93.413447</td>\n",
       "    </tr>\n",
       "    <tr>\n",
       "      <th>std</th>\n",
       "      <td>4833.720789</td>\n",
       "      <td>20.674321</td>\n",
       "      <td>1.347867</td>\n",
       "      <td>0.409170</td>\n",
       "      <td>0.225886</td>\n",
       "      <td>0.439835</td>\n",
       "      <td>0.180419</td>\n",
       "      <td>0.0</td>\n",
       "      <td>28.219222</td>\n",
       "    </tr>\n",
       "    <tr>\n",
       "      <th>min</th>\n",
       "      <td>1.000000</td>\n",
       "      <td>1902.000000</td>\n",
       "      <td>0.000000</td>\n",
       "      <td>0.000000</td>\n",
       "      <td>0.000000</td>\n",
       "      <td>0.000000</td>\n",
       "      <td>0.000000</td>\n",
       "      <td>0.0</td>\n",
       "      <td>1.000000</td>\n",
       "    </tr>\n",
       "    <tr>\n",
       "      <th>25%</th>\n",
       "      <td>4186.750000</td>\n",
       "      <td>2000.000000</td>\n",
       "      <td>5.100000</td>\n",
       "      <td>0.000000</td>\n",
       "      <td>0.000000</td>\n",
       "      <td>0.000000</td>\n",
       "      <td>0.000000</td>\n",
       "      <td>0.0</td>\n",
       "      <td>82.000000</td>\n",
       "    </tr>\n",
       "    <tr>\n",
       "      <th>50%</th>\n",
       "      <td>8372.500000</td>\n",
       "      <td>2012.000000</td>\n",
       "      <td>6.100000</td>\n",
       "      <td>0.000000</td>\n",
       "      <td>0.000000</td>\n",
       "      <td>1.000000</td>\n",
       "      <td>0.000000</td>\n",
       "      <td>0.0</td>\n",
       "      <td>92.000000</td>\n",
       "    </tr>\n",
       "    <tr>\n",
       "      <th>75%</th>\n",
       "      <td>12558.250000</td>\n",
       "      <td>2016.000000</td>\n",
       "      <td>6.900000</td>\n",
       "      <td>0.000000</td>\n",
       "      <td>0.000000</td>\n",
       "      <td>1.000000</td>\n",
       "      <td>0.000000</td>\n",
       "      <td>0.0</td>\n",
       "      <td>104.000000</td>\n",
       "    </tr>\n",
       "    <tr>\n",
       "      <th>max</th>\n",
       "      <td>16744.000000</td>\n",
       "      <td>2020.000000</td>\n",
       "      <td>9.300000</td>\n",
       "      <td>1.010000</td>\n",
       "      <td>1.000000</td>\n",
       "      <td>1.000000</td>\n",
       "      <td>1.000000</td>\n",
       "      <td>0.0</td>\n",
       "      <td>1256.000000</td>\n",
       "    </tr>\n",
       "  </tbody>\n",
       "</table>\n",
       "</div>"
      ],
      "text/plain": [
       "                 ID          Year          IMDb       Netflix          Hulu  \\\n",
       "count  16744.000000  16744.000000  16173.000000  16744.000000  16744.000000   \n",
       "mean    8372.500000   2003.014035      5.902751      0.212614      0.053930   \n",
       "std     4833.720789     20.674321      1.347867      0.409170      0.225886   \n",
       "min        1.000000   1902.000000      0.000000      0.000000      0.000000   \n",
       "25%     4186.750000   2000.000000      5.100000      0.000000      0.000000   \n",
       "50%     8372.500000   2012.000000      6.100000      0.000000      0.000000   \n",
       "75%    12558.250000   2016.000000      6.900000      0.000000      0.000000   \n",
       "max    16744.000000   2020.000000      9.300000      1.010000      1.000000   \n",
       "\n",
       "        Prime Video       Disney+     Type       Runtime  \n",
       "count  16744.000000  16744.000000  16744.0  16152.000000  \n",
       "mean       0.737817      0.033684      0.0     93.413447  \n",
       "std        0.439835      0.180419      0.0     28.219222  \n",
       "min        0.000000      0.000000      0.0      1.000000  \n",
       "25%        0.000000      0.000000      0.0     82.000000  \n",
       "50%        1.000000      0.000000      0.0     92.000000  \n",
       "75%        1.000000      0.000000      0.0    104.000000  \n",
       "max        1.000000      1.000000      0.0   1256.000000  "
      ]
     },
     "execution_count": 5,
     "metadata": {},
     "output_type": "execute_result"
    }
   ],
   "source": [
    "# Data description\n",
    "movies_data.describe()"
   ]
  },
  {
   "cell_type": "code",
   "execution_count": 6,
   "id": "ca1814b8",
   "metadata": {},
   "outputs": [
    {
     "name": "stdout",
     "output_type": "stream",
     "text": [
      "<class 'pandas.core.frame.DataFrame'>\n",
      "RangeIndex: 16744 entries, 0 to 16743\n",
      "Data columns (total 16 columns):\n",
      " #   Column           Non-Null Count  Dtype  \n",
      "---  ------           --------------  -----  \n",
      " 0   ID               16744 non-null  int64  \n",
      " 1   Title            16744 non-null  object \n",
      " 2   Year             16744 non-null  int64  \n",
      " 3   Age              7354 non-null   object \n",
      " 4   IMDb             16173 non-null  float64\n",
      " 5   Rotten Tomatoes  5158 non-null   object \n",
      " 6   Netflix          16744 non-null  float64\n",
      " 7   Hulu             16744 non-null  int64  \n",
      " 8   Prime Video      16744 non-null  int64  \n",
      " 9   Disney+          16744 non-null  int64  \n",
      " 10  Type             16744 non-null  int64  \n",
      " 11  Directors        16018 non-null  object \n",
      " 12  Genres           16469 non-null  object \n",
      " 13  Country          16309 non-null  object \n",
      " 14  Language         16145 non-null  object \n",
      " 15  Runtime          16152 non-null  float64\n",
      "dtypes: float64(3), int64(6), object(7)\n",
      "memory usage: 2.0+ MB\n"
     ]
    }
   ],
   "source": [
    "movies_data.info()"
   ]
  },
  {
   "cell_type": "markdown",
   "id": "a5484e15",
   "metadata": {},
   "source": [
    "### Data Cleaning"
   ]
  },
  {
   "cell_type": "code",
   "execution_count": 7,
   "id": "cd80d6fd",
   "metadata": {},
   "outputs": [],
   "source": [
    "# Removing duplicate records\n",
    "\n",
    "movies_data.drop_duplicates(inplace=True)"
   ]
  },
  {
   "cell_type": "code",
   "execution_count": 8,
   "id": "e0c0b1c5",
   "metadata": {},
   "outputs": [],
   "source": [
    "# Removing unneccsary columns\n",
    "\n",
    "# Type column is only having value 0 which does not contain any valuable information for EDA process.\n",
    "# Rotten Tomatoes column contains almost 70% of NULL values. So, inputing it with values may change the actual meaning of the data. Hence, the column is dropped.\n",
    "\n",
    "movies_data.drop(columns=['ID','Type','Rotten Tomatoes'],inplace=True)"
   ]
  },
  {
   "cell_type": "markdown",
   "id": "63e4da7d",
   "metadata": {},
   "source": [
    "### Handling null values"
   ]
  },
  {
   "cell_type": "code",
   "execution_count": 9,
   "id": "9208868e",
   "metadata": {},
   "outputs": [
    {
     "data": {
      "text/plain": [
       "Title             0\n",
       "Year              0\n",
       "Age            9390\n",
       "IMDb            571\n",
       "Netflix           0\n",
       "Hulu              0\n",
       "Prime Video       0\n",
       "Disney+           0\n",
       "Directors       726\n",
       "Genres          275\n",
       "Country         435\n",
       "Language        599\n",
       "Runtime         592\n",
       "dtype: int64"
      ]
     },
     "execution_count": 9,
     "metadata": {},
     "output_type": "execute_result"
    }
   ],
   "source": [
    "movies_data.isnull().sum()"
   ]
  },
  {
   "cell_type": "markdown",
   "id": "ea0220c1",
   "metadata": {},
   "source": [
    "Directors column has 726 null values. These records cannot be filled with other values."
   ]
  },
  {
   "cell_type": "code",
   "execution_count": 10,
   "id": "c1eea36e",
   "metadata": {},
   "outputs": [
    {
     "name": "stderr",
     "output_type": "stream",
     "text": [
      "C:\\Users\\DUSHYANT AHIRE\\anaconda3\\lib\\site-packages\\seaborn\\distributions.py:2619: FutureWarning: `distplot` is a deprecated function and will be removed in a future version. Please adapt your code to use either `displot` (a figure-level function with similar flexibility) or `histplot` (an axes-level function for histograms).\n",
      "  warnings.warn(msg, FutureWarning)\n"
     ]
    },
    {
     "name": "stdout",
     "output_type": "stream",
     "text": [
      "Mean: 5.902751499412594 Median: 6.1\n"
     ]
    },
    {
     "data": {
      "image/png": "[encoded data removed]",
      "text/plain": [
       "<Figure size 432x288 with 1 Axes>"
      ]
     },
     "metadata": {
      "needs_background": "light"
     },
     "output_type": "display_data"
    }
   ],
   "source": [
    "sns.distplot(movies_data['IMDb'])\n",
    "print('Mean:',movies_data['IMDb'].mean(),'Median:',movies_data['IMDb'].median())"
   ]
  },
  {
   "cell_type": "markdown",
   "id": "a674d01b",
   "metadata": {},
   "source": [
    "We can see from the above graph that there are no outliers as IMDB colummn is normally distributed with mean and median almost equal.\n",
    "Hence we can fill the NA values in IMDB coulmn with median value"
   ]
  },
  {
   "cell_type": "code",
   "execution_count": 11,
   "id": "5a11c163",
   "metadata": {},
   "outputs": [],
   "source": [
    "movies_data['IMDb'].fillna(movies_data['IMDb'].median(),inplace=True)"
   ]
  },
  {
   "cell_type": "markdown",
   "id": "561c6875",
   "metadata": {},
   "source": [
    "We are deleting the records where more than 8 columns are null values, which may not be useful for any kind of analysis."
   ]
  },
  {
   "cell_type": "code",
   "execution_count": 12,
   "id": "ea6d745e",
   "metadata": {},
   "outputs": [],
   "source": [
    "movies_data.dropna(axis=0,thresh=8,inplace=True)"
   ]
  },
  {
   "cell_type": "markdown",
   "id": "8c5bee66",
   "metadata": {},
   "source": [
    "Let us convert the type of 'Age' column from object to integer to get some useful insights."
   ]
  },
  {
   "cell_type": "code",
   "execution_count": 13,
   "id": "c7060f5d",
   "metadata": {},
   "outputs": [
    {
     "data": {
      "text/plain": [
       "18+    3474\n",
       "7+     1462\n",
       "13+    1255\n",
       "all     843\n",
       "16+     320\n",
       "Name: Age, dtype: int64"
      ]
     },
     "execution_count": 13,
     "metadata": {},
     "output_type": "execute_result"
    }
   ],
   "source": [
    "movies_data['Age'].value_counts()"
   ]
  },
  {
   "cell_type": "code",
   "execution_count": 14,
   "id": "28fd8610",
   "metadata": {},
   "outputs": [],
   "source": [
    "movies_data['Age'].replace({'18+':18},inplace=True)\n",
    "movies_data['Age'].replace({'7+':7},inplace=True)\n",
    "movies_data['Age'].replace({'13+':13},inplace=True)\n",
    "movies_data['Age'].replace({'all':0},inplace=True)\n",
    "movies_data['Age'].replace({'16+':16},inplace=True)"
   ]
  },
  {
   "cell_type": "code",
   "execution_count": 15,
   "id": "5c9e2fae",
   "metadata": {},
   "outputs": [
    {
     "data": {
      "text/html": [
       "<div>\n",
       "<style scoped>\n",
       "    .dataframe tbody tr th:only-of-type {\n",
       "        vertical-align: middle;\n",
       "    }\n",
       "\n",
       "    .dataframe tbody tr th {\n",
       "        vertical-align: top;\n",
       "    }\n",
       "\n",
       "    .dataframe thead th {\n",
       "        text-align: right;\n",
       "    }\n",
       "</style>\n",
       "<table border=\"1\" class=\"dataframe\">\n",
       "  <thead>\n",
       "    <tr style=\"text-align: right;\">\n",
       "      <th></th>\n",
       "      <th>Title</th>\n",
       "      <th>Year</th>\n",
       "      <th>Age</th>\n",
       "      <th>IMDb</th>\n",
       "      <th>Netflix</th>\n",
       "      <th>Hulu</th>\n",
       "      <th>Prime Video</th>\n",
       "      <th>Disney+</th>\n",
       "      <th>Directors</th>\n",
       "      <th>Genres</th>\n",
       "      <th>Country</th>\n",
       "      <th>Language</th>\n",
       "      <th>Runtime</th>\n",
       "    </tr>\n",
       "  </thead>\n",
       "  <tbody>\n",
       "    <tr>\n",
       "      <th>0</th>\n",
       "      <td>Inception</td>\n",
       "      <td>2010</td>\n",
       "      <td>13.0</td>\n",
       "      <td>8.8</td>\n",
       "      <td>1.0</td>\n",
       "      <td>0</td>\n",
       "      <td>0</td>\n",
       "      <td>0</td>\n",
       "      <td>Christopher Nolan</td>\n",
       "      <td>Action,Adventure,Sci-Fi,Thriller</td>\n",
       "      <td>United States,United Kingdom</td>\n",
       "      <td>English,Japanese,French</td>\n",
       "      <td>148.0</td>\n",
       "    </tr>\n",
       "    <tr>\n",
       "      <th>1</th>\n",
       "      <td>The Matrix</td>\n",
       "      <td>1999</td>\n",
       "      <td>18.0</td>\n",
       "      <td>8.7</td>\n",
       "      <td>1.0</td>\n",
       "      <td>0</td>\n",
       "      <td>0</td>\n",
       "      <td>0</td>\n",
       "      <td>Lana Wachowski,Lilly Wachowski</td>\n",
       "      <td>Action,Sci-Fi</td>\n",
       "      <td>United States</td>\n",
       "      <td>English</td>\n",
       "      <td>136.0</td>\n",
       "    </tr>\n",
       "    <tr>\n",
       "      <th>2</th>\n",
       "      <td>Avengers: Infinity War</td>\n",
       "      <td>2018</td>\n",
       "      <td>13.0</td>\n",
       "      <td>8.5</td>\n",
       "      <td>1.0</td>\n",
       "      <td>0</td>\n",
       "      <td>0</td>\n",
       "      <td>0</td>\n",
       "      <td>Anthony Russo,Joe Russo</td>\n",
       "      <td>Action,Adventure,Sci-Fi</td>\n",
       "      <td>United States</td>\n",
       "      <td>English</td>\n",
       "      <td>149.0</td>\n",
       "    </tr>\n",
       "    <tr>\n",
       "      <th>3</th>\n",
       "      <td>Back to the Future</td>\n",
       "      <td>1985</td>\n",
       "      <td>7.0</td>\n",
       "      <td>8.5</td>\n",
       "      <td>1.0</td>\n",
       "      <td>0</td>\n",
       "      <td>0</td>\n",
       "      <td>0</td>\n",
       "      <td>Robert Zemeckis</td>\n",
       "      <td>Adventure,Comedy,Sci-Fi</td>\n",
       "      <td>United States</td>\n",
       "      <td>English</td>\n",
       "      <td>116.0</td>\n",
       "    </tr>\n",
       "    <tr>\n",
       "      <th>4</th>\n",
       "      <td>The Good, the Bad and the Ugly</td>\n",
       "      <td>1966</td>\n",
       "      <td>18.0</td>\n",
       "      <td>8.8</td>\n",
       "      <td>1.0</td>\n",
       "      <td>0</td>\n",
       "      <td>1</td>\n",
       "      <td>0</td>\n",
       "      <td>Sergio Leone</td>\n",
       "      <td>Western</td>\n",
       "      <td>Italy,Spain,West Germany</td>\n",
       "      <td>Italian</td>\n",
       "      <td>161.0</td>\n",
       "    </tr>\n",
       "  </tbody>\n",
       "</table>\n",
       "</div>"
      ],
      "text/plain": [
       "                            Title  Year   Age  IMDb  Netflix  Hulu  \\\n",
       "0                       Inception  2010  13.0   8.8      1.0     0   \n",
       "1                      The Matrix  1999  18.0   8.7      1.0     0   \n",
       "2          Avengers: Infinity War  2018  13.0   8.5      1.0     0   \n",
       "3              Back to the Future  1985   7.0   8.5      1.0     0   \n",
       "4  The Good, the Bad and the Ugly  1966  18.0   8.8      1.0     0   \n",
       "\n",
       "   Prime Video  Disney+                       Directors  \\\n",
       "0            0        0               Christopher Nolan   \n",
       "1            0        0  Lana Wachowski,Lilly Wachowski   \n",
       "2            0        0         Anthony Russo,Joe Russo   \n",
       "3            0        0                 Robert Zemeckis   \n",
       "4            1        0                    Sergio Leone   \n",
       "\n",
       "                             Genres                       Country  \\\n",
       "0  Action,Adventure,Sci-Fi,Thriller  United States,United Kingdom   \n",
       "1                     Action,Sci-Fi                 United States   \n",
       "2           Action,Adventure,Sci-Fi                 United States   \n",
       "3           Adventure,Comedy,Sci-Fi                 United States   \n",
       "4                           Western      Italy,Spain,West Germany   \n",
       "\n",
       "                  Language  Runtime  \n",
       "0  English,Japanese,French    148.0  \n",
       "1                  English    136.0  \n",
       "2                  English    149.0  \n",
       "3                  English    116.0  \n",
       "4                  Italian    161.0  "
      ]
     },
     "execution_count": 15,
     "metadata": {},
     "output_type": "execute_result"
    }
   ],
   "source": [
    "movies_data.head()"
   ]
  },
  {
   "cell_type": "markdown",
   "id": "bf8e055e",
   "metadata": {},
   "source": [
    "### Visualization"
   ]
  },
  {
   "cell_type": "markdown",
   "id": "308669ec",
   "metadata": {},
   "source": [
    "Movie count across each platform\n"
   ]
  },
  {
   "cell_type": "code",
   "execution_count": 16,
   "id": "e7b4c508",
   "metadata": {},
   "outputs": [
    {
     "data": {
      "text/plain": [
       "<AxesSubplot:>"
      ]
     },
     "execution_count": 16,
     "metadata": {},
     "output_type": "execute_result"
    },
    {
     "data": {
      "image/png": "[encoded data removed]",
      "text/plain": [
       "<Figure size 432x288 with 1 Axes>"
      ]
     },
     "metadata": {
      "needs_background": "light"
     },
     "output_type": "display_data"
    }
   ],
   "source": [
    "sns.barplot(x=['Netflix','Hulu','Prime Video','Disney+'],y=[movies_data['Netflix'].value_counts()[1],\n",
    "                movies_data['Hulu'].value_counts()[1],movies_data['Prime Video'].value_counts()[1],\n",
    "                movies_data['Disney+'].value_counts()[1]])"
   ]
  },
  {
   "cell_type": "markdown",
   "id": "3a3037d4",
   "metadata": {},
   "source": [
    "Highest number of movies in this data set are from Prime Video.\n",
    "Followed by Netflix,Hulu and Disney+."
   ]
  },
  {
   "cell_type": "markdown",
   "id": "a73cfb2b",
   "metadata": {},
   "source": [
    "#### Movies Distribution throughout the Years"
   ]
  },
  {
   "cell_type": "code",
   "execution_count": 17,
   "id": "bb46adab",
   "metadata": {},
   "outputs": [
    {
     "name": "stdout",
     "output_type": "stream",
     "text": [
      "Movies released from the year 1902 are available on OTT platforms \n",
      "Many movies released in the year 2012 are available on OTT platforms \n"
     ]
    }
   ],
   "source": [
    "print('Movies released from the year %d are available on OTT platforms '%(movies_data['Year'].min()))\n",
    "print('Many movies released in the year %d are available on OTT platforms '%(movies_data['Year'].median()))"
   ]
  },
  {
   "cell_type": "code",
   "execution_count": 18,
   "id": "284b2824",
   "metadata": {},
   "outputs": [
    {
     "name": "stderr",
     "output_type": "stream",
     "text": [
      "C:\\Users\\DUSHYANT AHIRE\\anaconda3\\lib\\site-packages\\seaborn\\distributions.py:2619: FutureWarning: `distplot` is a deprecated function and will be removed in a future version. Please adapt your code to use either `displot` (a figure-level function with similar flexibility) or `histplot` (an axes-level function for histograms).\n",
      "  warnings.warn(msg, FutureWarning)\n"
     ]
    },
    {
     "data": {
      "text/plain": [
       "<matplotlib.legend.Legend at 0x1e4001ca3a0>"
      ]
     },
     "execution_count": 18,
     "metadata": {},
     "output_type": "execute_result"
    },
    {
     "data": {
      "image/png": "[encoded data removed]",
      "text/plain": [
       "<Figure size 432x288 with 1 Axes>"
      ]
     },
     "metadata": {
      "needs_background": "light"
     },
     "output_type": "display_data"
    }
   ],
   "source": [
    "sns.distplot(movies_data['Year'])\n",
    "plt.axvline(movies_data['Year'].min(),color='green',label='min')\n",
    "plt.axvline(movies_data['Year'].max(),color='red',label='max')\n",
    "plt.axvline(movies_data['Year'].median(),color='yellow',label='median')\n",
    "plt.legend()"
   ]
  },
  {
   "cell_type": "markdown",
   "id": "eafe839b",
   "metadata": {},
   "source": [
    "We can see that maximum movies are released between the years 2005 and 2020 in above OTT platforms."
   ]
  },
  {
   "cell_type": "code",
   "execution_count": 19,
   "id": "5022f9c9",
   "metadata": {},
   "outputs": [
    {
     "name": "stdout",
     "output_type": "stream",
     "text": [
      "2017    1378\n",
      "2018    1248\n",
      "2016    1184\n",
      "2015    1049\n",
      "2014     974\n",
      "Name: Year, dtype: int64\n"
     ]
    }
   ],
   "source": [
    "print(movies_data['Year'].value_counts().head())"
   ]
  },
  {
   "cell_type": "markdown",
   "id": "6fee0ce9",
   "metadata": {},
   "source": [
    "Mostly movies in the OTT platforms are found in the year 2015,2016,2017,2018. This is when the Movies watching on OTT platforms rised."
   ]
  },
  {
   "cell_type": "markdown",
   "id": "1123f1da",
   "metadata": {},
   "source": [
    "### Visualization based on Genres"
   ]
  },
  {
   "cell_type": "markdown",
   "id": "d41ec338",
   "metadata": {},
   "source": [
    "Genre column contains various genres which seperated by comma. Hence we will have to separate the genres and create new column having individual genre."
   ]
  },
  {
   "cell_type": "code",
   "execution_count": 20,
   "id": "cb65013e",
   "metadata": {},
   "outputs": [
    {
     "data": {
      "text/html": [
       "<div>\n",
       "<style scoped>\n",
       "    .dataframe tbody tr th:only-of-type {\n",
       "        vertical-align: middle;\n",
       "    }\n",
       "\n",
       "    .dataframe tbody tr th {\n",
       "        vertical-align: top;\n",
       "    }\n",
       "\n",
       "    .dataframe thead th {\n",
       "        text-align: right;\n",
       "    }\n",
       "</style>\n",
       "<table border=\"1\" class=\"dataframe\">\n",
       "  <thead>\n",
       "    <tr style=\"text-align: right;\">\n",
       "      <th></th>\n",
       "      <th>Title</th>\n",
       "      <th>Year</th>\n",
       "      <th>Age</th>\n",
       "      <th>IMDb</th>\n",
       "      <th>Netflix</th>\n",
       "      <th>Hulu</th>\n",
       "      <th>Prime Video</th>\n",
       "      <th>Disney+</th>\n",
       "      <th>Directors</th>\n",
       "      <th>Country</th>\n",
       "      <th>Language</th>\n",
       "      <th>Runtime</th>\n",
       "      <th>Genres</th>\n",
       "    </tr>\n",
       "  </thead>\n",
       "  <tbody>\n",
       "    <tr>\n",
       "      <th>0</th>\n",
       "      <td>Inception</td>\n",
       "      <td>2010</td>\n",
       "      <td>13.0</td>\n",
       "      <td>8.8</td>\n",
       "      <td>1.0</td>\n",
       "      <td>0</td>\n",
       "      <td>0</td>\n",
       "      <td>0</td>\n",
       "      <td>Christopher Nolan</td>\n",
       "      <td>United States,United Kingdom</td>\n",
       "      <td>English,Japanese,French</td>\n",
       "      <td>148.0</td>\n",
       "      <td>Action</td>\n",
       "    </tr>\n",
       "    <tr>\n",
       "      <th>0</th>\n",
       "      <td>Inception</td>\n",
       "      <td>2010</td>\n",
       "      <td>13.0</td>\n",
       "      <td>8.8</td>\n",
       "      <td>1.0</td>\n",
       "      <td>0</td>\n",
       "      <td>0</td>\n",
       "      <td>0</td>\n",
       "      <td>Christopher Nolan</td>\n",
       "      <td>United States,United Kingdom</td>\n",
       "      <td>English,Japanese,French</td>\n",
       "      <td>148.0</td>\n",
       "      <td>Adventure</td>\n",
       "    </tr>\n",
       "    <tr>\n",
       "      <th>0</th>\n",
       "      <td>Inception</td>\n",
       "      <td>2010</td>\n",
       "      <td>13.0</td>\n",
       "      <td>8.8</td>\n",
       "      <td>1.0</td>\n",
       "      <td>0</td>\n",
       "      <td>0</td>\n",
       "      <td>0</td>\n",
       "      <td>Christopher Nolan</td>\n",
       "      <td>United States,United Kingdom</td>\n",
       "      <td>English,Japanese,French</td>\n",
       "      <td>148.0</td>\n",
       "      <td>Sci-Fi</td>\n",
       "    </tr>\n",
       "    <tr>\n",
       "      <th>0</th>\n",
       "      <td>Inception</td>\n",
       "      <td>2010</td>\n",
       "      <td>13.0</td>\n",
       "      <td>8.8</td>\n",
       "      <td>1.0</td>\n",
       "      <td>0</td>\n",
       "      <td>0</td>\n",
       "      <td>0</td>\n",
       "      <td>Christopher Nolan</td>\n",
       "      <td>United States,United Kingdom</td>\n",
       "      <td>English,Japanese,French</td>\n",
       "      <td>148.0</td>\n",
       "      <td>Thriller</td>\n",
       "    </tr>\n",
       "    <tr>\n",
       "      <th>1</th>\n",
       "      <td>The Matrix</td>\n",
       "      <td>1999</td>\n",
       "      <td>18.0</td>\n",
       "      <td>8.7</td>\n",
       "      <td>1.0</td>\n",
       "      <td>0</td>\n",
       "      <td>0</td>\n",
       "      <td>0</td>\n",
       "      <td>Lana Wachowski,Lilly Wachowski</td>\n",
       "      <td>United States</td>\n",
       "      <td>English</td>\n",
       "      <td>136.0</td>\n",
       "      <td>Action</td>\n",
       "    </tr>\n",
       "  </tbody>\n",
       "</table>\n",
       "</div>"
      ],
      "text/plain": [
       "        Title  Year   Age  IMDb  Netflix  Hulu  Prime Video  Disney+  \\\n",
       "0   Inception  2010  13.0   8.8      1.0     0            0        0   \n",
       "0   Inception  2010  13.0   8.8      1.0     0            0        0   \n",
       "0   Inception  2010  13.0   8.8      1.0     0            0        0   \n",
       "0   Inception  2010  13.0   8.8      1.0     0            0        0   \n",
       "1  The Matrix  1999  18.0   8.7      1.0     0            0        0   \n",
       "\n",
       "                        Directors                       Country  \\\n",
       "0               Christopher Nolan  United States,United Kingdom   \n",
       "0               Christopher Nolan  United States,United Kingdom   \n",
       "0               Christopher Nolan  United States,United Kingdom   \n",
       "0               Christopher Nolan  United States,United Kingdom   \n",
       "1  Lana Wachowski,Lilly Wachowski                 United States   \n",
       "\n",
       "                  Language  Runtime     Genres  \n",
       "0  English,Japanese,French    148.0     Action  \n",
       "0  English,Japanese,French    148.0  Adventure  \n",
       "0  English,Japanese,French    148.0     Sci-Fi  \n",
       "0  English,Japanese,French    148.0   Thriller  \n",
       "1                  English    136.0     Action  "
      ]
     },
     "execution_count": 20,
     "metadata": {},
     "output_type": "execute_result"
    }
   ],
   "source": [
    "movies_genre=movies_data.copy()\n",
    "del movies_genre['Genres']\n",
    "s = movies_data['Genres'].str.split(',').apply(pd.Series, 1).stack()\n",
    "s.index = s.index.droplevel(-1)\n",
    "s.name = 'Genres'\n",
    "movies_genre = movies_genre.join(s)\n",
    "\n",
    "movies_genre.head()"
   ]
  },
  {
   "cell_type": "markdown",
   "id": "844b9c96",
   "metadata": {},
   "source": [
    "### Movie count on the basis of genre"
   ]
  },
  {
   "cell_type": "code",
   "execution_count": 21,
   "id": "33f7c5af",
   "metadata": {},
   "outputs": [
    {
     "ename": "NameError",
     "evalue": "name 'movies_Genre' is not defined",
     "output_type": "error",
     "traceback": [
      "\u001b[1;31m---------------------------------------------------------------------------\u001b[0m",
      "\u001b[1;31mNameError\u001b[0m                                 Traceback (most recent call last)",
      "\u001b[1;32m~\\AppData\\Local\\Temp/ipykernel_26808/807912287.py\u001b[0m in \u001b[0;36m<module>\u001b[1;34m\u001b[0m\n\u001b[0;32m      1\u001b[0m \u001b[0mlis\u001b[0m\u001b[1;33m=\u001b[0m\u001b[1;33m[\u001b[0m\u001b[1;33m]\u001b[0m\u001b[1;33m\u001b[0m\u001b[1;33m\u001b[0m\u001b[0m\n\u001b[1;32m----> 2\u001b[1;33m \u001b[1;32mfor\u001b[0m \u001b[0mi\u001b[0m \u001b[1;32min\u001b[0m \u001b[0mmovies_Genre\u001b[0m\u001b[1;33m[\u001b[0m\u001b[1;34m'Genres'\u001b[0m\u001b[1;33m]\u001b[0m\u001b[1;33m:\u001b[0m\u001b[1;33m\u001b[0m\u001b[1;33m\u001b[0m\u001b[0m\n\u001b[0m\u001b[0;32m      3\u001b[0m     \u001b[0mlis\u001b[0m\u001b[1;33m.\u001b[0m\u001b[0mappend\u001b[0m\u001b[1;33m(\u001b[0m\u001b[0mi\u001b[0m\u001b[1;33m)\u001b[0m\u001b[1;33m\u001b[0m\u001b[1;33m\u001b[0m\u001b[0m\n\u001b[0;32m      4\u001b[0m \u001b[1;33m\u001b[0m\u001b[0m\n\u001b[0;32m      5\u001b[0m \u001b[1;32mfor\u001b[0m \u001b[0mk\u001b[0m \u001b[1;32min\u001b[0m \u001b[0mrange\u001b[0m\u001b[1;33m(\u001b[0m\u001b[1;36m0\u001b[0m\u001b[1;33m,\u001b[0m\u001b[0mlen\u001b[0m\u001b[1;33m(\u001b[0m\u001b[0mlis\u001b[0m\u001b[1;33m)\u001b[0m\u001b[1;33m)\u001b[0m\u001b[1;33m:\u001b[0m\u001b[1;33m\u001b[0m\u001b[1;33m\u001b[0m\u001b[0m\n",
      "\u001b[1;31mNameError\u001b[0m: name 'movies_Genre' is not defined"
     ]
    }
   ],
   "source": [
    "lis=[]\n",
    "for i in movies_Genre['Genres']:\n",
    "    lis.append(i)\n",
    "\n",
    "for k in range(0,len(lis)):\n",
    "    lis[k]=str(lis[k]).strip()\n",
    "    \n",
    "from collections import Counter\n",
    "genre_count = Counter(lis)\n",
    "\n",
    "from wordcloud import WordCloud\n",
    "wc = WordCloud(background_color='white')\n",
    "wc.generate_from_frequencies(genre_count)\n",
    "plt.figure(figsize=(12,8))\n",
    "plt.imshow(wc,interpolation='bilinear')\n",
    "plt.axis('off')\n",
    "plt.show()"
   ]
  },
  {
   "cell_type": "markdown",
   "id": "19893797",
   "metadata": {},
   "source": [
    " - These OTT Platforms have variety of genres from Comedy to news.\n",
    " - Drama,Comedy,Thriller and Action are the majority of genres across all the Platforms.\n",
    " - This shows that the OTT platforms are more interested to have these genres which typliaclly shows the choice of viewers."
   ]
  },
  {
   "cell_type": "markdown",
   "id": "b44e5f9c",
   "metadata": {},
   "source": [
    "### Movie count on each platform based on genres"
   ]
  },
  {
   "cell_type": "code",
   "execution_count": null,
   "id": "70d8d696",
   "metadata": {},
   "outputs": [],
   "source": [
    "fig,axes=plt.subplots(1,2,figsize=(15,5))\n",
    "movies_genre.loc[movies_genre['Prime Video']==1,'Genres'].value_counts().plot(kind='bar',ax=axes[0],color='royalblue')\n",
    "movies_genre.loc[movies_genre['Disney+']==1,'Genres'].value_counts().plot(kind='bar',ax=axes[1],color='darkblue')\n",
    "axes[0].set_title('Prime Video Genres')\n",
    "axes[1].set_title('Disney+ Genres')\n",
    "plt.show()"
   ]
  },
  {
   "cell_type": "code",
   "execution_count": null,
   "id": "bd5de0bf",
   "metadata": {},
   "outputs": [],
   "source": [
    "fig,axes=plt.subplots(1,2,figsize=(15,5))\n",
    "movies_Genre.loc[movies_Genre['Netflix']==1,'Genres'].value_counts().plot(kind='bar',ax=axes[0],color='crimson')\n",
    "movies_Genre.loc[movies_Genre['Hulu']==1,'Genres'].value_counts().plot(kind='bar',ax=axes[1],color='limegreen')\n",
    "axes[0].set_title('Netflix Genres')\n",
    "axes[1].set_title('Hulu Genres')\n",
    "plt.show()"
   ]
  },
  {
   "cell_type": "markdown",
   "id": "23c80177",
   "metadata": {},
   "source": [
    "Drama and Comedy seems to be top genres across all the platform."
   ]
  },
  {
   "cell_type": "markdown",
   "id": "6dfe56d7",
   "metadata": {},
   "source": [
    "### Average ratings of movies based on Genres across each OTT Platform\n"
   ]
  },
  {
   "cell_type": "code",
   "execution_count": null,
   "id": "d8616481",
   "metadata": {},
   "outputs": [],
   "source": [
    "x=movies_genre.loc[movies_genre['Netflix']==1].groupby('Genres')['IMDb'].mean().reset_index().sort_values(by='IMDb',ascending=False)\n",
    "y=movies_genre.loc[movies_genre['Hulu']==1].groupby('Genres')['IMDb'].mean().reset_index().sort_values(by='IMDb',ascending=False)\n",
    "z=movies_genre.loc[movies_genre['Prime Video']==1].groupby('Genres')['IMDb'].mean().reset_index().sort_values(by='IMDb',ascending=False)\n",
    "a=movies_genre.loc[movies_genre['Disney+']==1].groupby('Genres')['IMDb'].mean().reset_index().sort_values(by='IMDb',ascending=False)"
   ]
  },
  {
   "cell_type": "code",
   "execution_count": null,
   "id": "aeccdfda",
   "metadata": {},
   "outputs": [],
   "source": [
    "fig,axes=plt.subplots(1,2,figsize=(15,5))\n",
    "sns.barplot(x['Genres'],x['IMDb'],ax=axes[0])\n",
    "axes[0].set_xticklabels(labels=x['Genres'],rotation=90)\n",
    "axes[0].set_title('Average IMDb ratings for each Genre in Netflix platform')\n",
    "sns.barplot(y['Genres'],y['IMDb'],ax=axes[1])\n",
    "axes[1].set_xticklabels(labels=y['Genres'],rotation=90)\n",
    "axes[1].set_title('Average IMDb ratings for each Genre in Hulu platform')\n",
    "plt.show()"
   ]
  },
  {
   "cell_type": "code",
   "execution_count": null,
   "id": "9a7feef1",
   "metadata": {},
   "outputs": [],
   "source": [
    "fig,axes=plt.subplots(1,2,figsize=(15,5))\n",
    "sns.barplot(z['Genres'],z['IMDb'],ax=axes[0])\n",
    "axes[0].set_xticklabels(labels=z['Genres'],rotation=90)\n",
    "axes[0].set_title('Average IMDb ratings for each Genre in Prime Video platform')\n",
    "sns.barplot(a['Genres'],a['IMDb'],ax=axes[1])\n",
    "axes[1].set_xticklabels(labels=a['Genres'],rotation=90)\n",
    "axes[1].set_title('Average IMDb ratings for each Genre in Disney+ platform')\n",
    "plt.show()"
   ]
  },
  {
   "cell_type": "markdown",
   "id": "3b63f2de",
   "metadata": {},
   "source": [
    "We cannot see a huge difference in the average ratings for each genre across platforms which ranges between 6 and 7.5."
   ]
  },
  {
   "cell_type": "markdown",
   "id": "b9b106f2",
   "metadata": {},
   "source": [
    "### Visualization based on Languages"
   ]
  },
  {
   "cell_type": "markdown",
   "id": "83a852a0",
   "metadata": {},
   "source": [
    "Language column also consists of various Languages which are comma seperated. We will have to convert it to a column of individual language and storeit in another dataframe movies_language.\n"
   ]
  },
  {
   "cell_type": "code",
   "execution_count": null,
   "id": "136b9419",
   "metadata": {},
   "outputs": [],
   "source": [
    "movies_language=movies_data.copy()\n",
    "t=movies_language['Language'].str.split(',').apply(pd.Series,1).stack()\n",
    "t.index=t.index.droplevel(-1)\n",
    "del movies_language['Language']\n",
    "t.name='Language'\n",
    "movies_language=movies_language.join(t)"
   ]
  },
  {
   "cell_type": "code",
   "execution_count": null,
   "id": "4a9a00d3",
   "metadata": {},
   "outputs": [],
   "source": [
    "movies_language.head()"
   ]
  },
  {
   "cell_type": "markdown",
   "id": "3e8447db",
   "metadata": {},
   "source": [
    "### Top 20 languages across all the platforms"
   ]
  },
  {
   "cell_type": "code",
   "execution_count": null,
   "id": "d758b02d",
   "metadata": {},
   "outputs": [],
   "source": [
    "top_20=movies_language['Language'].value_counts().head(20).reset_index()\n",
    "top_20"
   ]
  },
  {
   "cell_type": "code",
   "execution_count": null,
   "id": "97fb6927",
   "metadata": {},
   "outputs": [],
   "source": [
    "sns.barplot(top_20['index'],top_20['Language'])\n",
    "plt.xticks(rotation=90)\n",
    "plt.xlabel('Languages')\n",
    "plt.ylabel('movies count')\n",
    "plt.title('Movie count of top 20 languages')\n",
    "plt.show()"
   ]
  },
  {
   "cell_type": "markdown",
   "id": "27d38fcd",
   "metadata": {},
   "source": [
    " - English language is way at top amongst other languages\n",
    " - Indian regional languages like Hindi,Tamil,telugu,Punjabi is among the top 20 which shows that all the OTT platforms has a good reach and viewership in India.\n",
    " - A wide range of European language can be seen in the top 20 which again shows the popularity among the European nations."
   ]
  },
  {
   "cell_type": "markdown",
   "id": "5e8925f5",
   "metadata": {},
   "source": [
    "### Average IMDb ratings for the top 20 languages"
   ]
  },
  {
   "cell_type": "code",
   "execution_count": null,
   "id": "6bcf384c",
   "metadata": {},
   "outputs": [],
   "source": [
    "timdb=pd.pivot_table(movies_language,index=['Language'],values='IMDb',aggfunc='median')"
   ]
  },
  {
   "cell_type": "code",
   "execution_count": null,
   "id": "3d4d4e28",
   "metadata": {},
   "outputs": [],
   "source": [
    "timdb.loc[['English','Spanish','French','Hindi','German','Italian','Mandarin','Japanese','Russian','Arabic','Korean',\n",
    "          'Cantonese','Tamil','Telugu','Portuguese','Turkish','Hebrew','Swedish','Filipino','Punjabi']].sort_values('IMDb',ascending=False).plot(kind='bar',color='brown')\n",
    "plt.show()"
   ]
  },
  {
   "cell_type": "markdown",
   "id": "c5c6cd7c",
   "metadata": {},
   "source": [
    "We can see that even n the case of languages there is much difference in IMDb ratings which is between 6-7."
   ]
  },
  {
   "cell_type": "markdown",
   "id": "44b45c49",
   "metadata": {},
   "source": [
    "### Top 5 languages based on movie count across the OTT Platforms"
   ]
  },
  {
   "cell_type": "code",
   "execution_count": null,
   "id": "2e13a701",
   "metadata": {},
   "outputs": [],
   "source": [
    "top_5_netflix=movies_language.loc[movies_language['Netflix']==1,'Language'].value_counts().head(5).reset_index()\n",
    "top_5_prime=movies_language.loc[movies_language['Prime Video']==1,'Language'].value_counts().head(5).reset_index()\n",
    "top_5_hulu=movies_language.loc[movies_language['Hulu']==1,'Language'].value_counts().head(5).reset_index()\n",
    "top_5_disney=movies_language.loc[movies_language['Disney+']==1,'Language'].value_counts().head(5).reset_index()"
   ]
  },
  {
   "cell_type": "code",
   "execution_count": null,
   "id": "f8df8149",
   "metadata": {},
   "outputs": [],
   "source": [
    "fig,axes=plt.subplots(2,2,figsize=(15,5))\n",
    "sns.barplot(top_5_netflix.loc[1:,'index'],top_5_netflix.loc[1:,'Language'],ax=axes[0,0])\n",
    "sns.barplot(top_5_prime.loc[1:,'index'],top_5_prime.loc[1:,'Language'],ax=axes[0,1])\n",
    "sns.barplot(top_5_hulu.loc[1:,'index'],top_5_hulu.loc[1:,'Language'],ax=axes[1,0])\n",
    "sns.barplot(top_5_disney.loc[1:,'index'],top_5_disney.loc[1:,'Language'],ax=axes[1,1])\n",
    "axes[0,0].set_title('Netflix - top 5 languages based on movie count')\n",
    "axes[0,1].set_title('Prime Video - top 5 languages based on movie count')\n",
    "axes[1,0].set_title('Hulu - top 5 languages based on movie count')\n",
    "axes[1,1].set_title('Disney+ - top 5 languages based on movie count')\n",
    "fig.tight_layout(pad=3.0)\n",
    "plt.show()"
   ]
  },
  {
   "cell_type": "markdown",
   "id": "c42f7cf4",
   "metadata": {},
   "source": [
    "- We can see from above graphs the top 5 languages(other than English) having the highest movie count in different OTT platforms.\n",
    "- As seen earlier all OTT Platforms are having higher number of English language movies.\n",
    "- If you want to watch hindi movies you can go with Netflix and Prime Video with more than 400 movies.\n",
    "- Spanish language movies are equally spread and having more count across all the OTT platforms.\n",
    "- German movies can be viewed in netflix with more than 100 movies."
   ]
  },
  {
   "cell_type": "markdown",
   "id": "beb07cc5",
   "metadata": {},
   "source": [
    "### Analysis based on viewers Age"
   ]
  },
  {
   "cell_type": "code",
   "execution_count": null,
   "id": "67706161",
   "metadata": {},
   "outputs": [],
   "source": [
    "sns.countplot(movies_data['Age'])\n",
    "plt.show()"
   ]
  },
  {
   "cell_type": "markdown",
   "id": "fa9095e8",
   "metadata": {},
   "source": [
    "- 0 indicates no restriction in the age group in the movies dataset\n",
    "- It can be seen that the shows in the OTT platforms are targeted for age group of 18+.\n",
    "- Followed by age group of 7 and 13 which may include movies of kids genre."
   ]
  },
  {
   "cell_type": "markdown",
   "id": "a755bea2",
   "metadata": {},
   "source": [
    "### Analysis based on Movie Directors"
   ]
  },
  {
   "cell_type": "markdown",
   "id": "d4a6dab5",
   "metadata": {},
   "source": [
    "Directors column also consists of various Director names comma seperated. We have to convert it to a column of individual directors and store it in new dataframe movie_director."
   ]
  },
  {
   "cell_type": "code",
   "execution_count": null,
   "id": "5f5ef548",
   "metadata": {},
   "outputs": [],
   "source": [
    "movie_director=movies_Genre.copy()\n",
    "s=movie_director['Directors'].str.split(',').apply(pd.Series).stack()\n",
    "del movie_director['Directors']\n",
    "s.index=s.index.droplevel(-1)\n",
    "s.name='director'\n",
    "movie_director=movie_director.join(s)"
   ]
  },
  {
   "cell_type": "code",
   "execution_count": null,
   "id": "f0edaa05",
   "metadata": {},
   "outputs": [],
   "source": [
    "movie_director.drop_duplicates(inplace=True)"
   ]
  },
  {
   "cell_type": "code",
   "execution_count": null,
   "id": "a9337599",
   "metadata": {},
   "outputs": [],
   "source": [
    "movie_director.head()"
   ]
  },
  {
   "cell_type": "markdown",
   "id": "8ced158e",
   "metadata": {},
   "source": [
    "### Top 10 movie directors based on movie count"
   ]
  },
  {
   "cell_type": "code",
   "execution_count": null,
   "id": "bb5b9920",
   "metadata": {},
   "outputs": [],
   "source": [
    "movie_director['director'].value_counts().head(10)"
   ]
  },
  {
   "cell_type": "code",
   "execution_count": null,
   "id": "f26c8f74",
   "metadata": {},
   "outputs": [],
   "source": [
    "movie_director_10=movies_data.copy()\n",
    "s=movie_director_10['Directors'].str.split(',').apply(pd.Series).stack()\n",
    "del movie_director_10['Directors']\n",
    "s.index=s.index.droplevel(-1)\n",
    "s.name='director'\n",
    "movie_director_10=movie_director_10.join(s)"
   ]
  },
  {
   "cell_type": "code",
   "execution_count": null,
   "id": "5c4099f4",
   "metadata": {},
   "outputs": [],
   "source": [
    "movie_director_10['director'].value_counts().head(10).plot(kind='bar')\n",
    "plt.title('Top 10 Directors based on movie count across all OTT platforms')\n",
    "plt.show()"
   ]
  },
  {
   "cell_type": "markdown",
   "id": "ebdde13a",
   "metadata": {},
   "source": [
    "- A variety of about 35 movies directed by Jay Chapman can be viewed across all OTT platform.\n",
    "- Followed by Joseph kane,Cheh Chang who directed about 20 movies."
   ]
  },
  {
   "cell_type": "markdown",
   "id": "99f80bc8",
   "metadata": {},
   "source": [
    "### Genres directed by top 10 directors"
   ]
  },
  {
   "cell_type": "code",
   "execution_count": null,
   "id": "b89423c9",
   "metadata": {},
   "outputs": [],
   "source": [
    "s=pd.crosstab(movie_director['Genres'],movie_director['director']).loc[:,['Joseph Kane','Sam Newfield','Jim Wynorski','Cheh Chang',\n",
    "                                                     'Mark Atkins','William Beaudine','Fred Olen Ray',\n",
    "                                                     'Paul Hoen','Robert Stevenson','Richard Rich']]"
   ]
  },
  {
   "cell_type": "code",
   "execution_count": null,
   "id": "f4267f0e",
   "metadata": {},
   "outputs": [],
   "source": [
    "s.plot(kind='bar',stacked=True,figsize=(20,10))\n",
    "plt.title('Various Genres directed by top 10 directors',fontdict={'fontsize':30})\n",
    "plt.show()"
   ]
  },
  {
   "cell_type": "markdown",
   "id": "ed04e74c",
   "metadata": {},
   "source": [
    "Based on the above visualization we can infer that most of the action,comedy,music and western genre movies are directed by Joseph Kane.\n",
    "Also, a wide range of action and drama genre movies are directed by Cheh Chang.\n",
    "If you want to go with thriller movies, then you'll have a wide availability of movies directed by Fred Olen Ray and Mark Atkins.\n",
    "William Beaudine has directed movies in almost all the above mentioned genres."
   ]
  },
  {
   "cell_type": "markdown",
   "id": "cf26150d",
   "metadata": {},
   "source": [
    "### Conclusion"
   ]
  },
  {
   "cell_type": "markdown",
   "id": "2523b7c3",
   "metadata": {},
   "source": [
    "Most of the OTT paltforms have high English Language content and higher viewership is aged above 18 years. Where Drama and Comedy genre tops the chart.   "
   ]
  }
 ],
 "metadata": {
  "kernelspec": {
   "display_name": "Python 3 (ipykernel)",
   "language": "python",
   "name": "python3"
  },
  "language_info": {
   "codemirror_mode": {
    "name": "ipython",
    "version": 3
   },
   "file_extension": ".py",
   "mimetype": "text/x-python",
   "name": "python",
   "nbconvert_exporter": "python",
   "pygments_lexer": "ipython3",
   "version": "3.9.7"
  }
 },
 "nbformat": 4,
 "nbformat_minor": 5
}
